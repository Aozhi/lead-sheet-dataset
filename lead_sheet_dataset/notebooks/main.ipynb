{
 "cells": [
  {
   "cell_type": "code",
   "execution_count": 14,
   "metadata": {
    "collapsed": true
   },
   "outputs": [],
   "source": [
    "import os\n",
    "import math\n",
    "import json\n",
    "from parser import proc_xml\n",
    "from roman_to_symbol import proc_roman_to_symbol\n",
    "from to_pianoroll import proc_event_to_midi, proc_midi_to_pianoroll"
   ]
  },
  {
   "cell_type": "code",
   "execution_count": 24,
   "metadata": {
    "collapsed": true
   },
   "outputs": [],
   "source": [
    "root_xml = 'dataset/xml'\n",
    "root_event = 'dataset/event'\n",
    "root_pianoroll = 'dataset/pianoroll'\n",
    "log_dir = 'log'\n",
    "\n",
    "\n",
    "def traverse_dir(root_dir, extension='.xml', is_pure=True):\n",
    "    print('[*] Scanning...')\n",
    "    file_list = []\n",
    "    for root, dirs, files in os.walk(root_dir):\n",
    "        for file in files:\n",
    "            if file.endswith(extension):\n",
    "                mix_path = os.path.join(root, file)\n",
    "                pure_path = mix_path[len(root_dir)+1:] if is_pure else mix_path\n",
    "                file_list.append(pure_path)\n",
    "\n",
    "    return file_list\n",
    "\n",
    "\n",
    "def error_handler(e, url, log, side_info=''):\n",
    "    print(e)\n",
    "    print(url, '\\n')\n",
    "    log.write(side_info + '  -  '+str(e) + '\\n' + url + '\\n')\n",
    "\n",
    "\n",
    "def split_file(path):\n",
    "    base = os.path.basename(path)\n",
    "    filename = base.split('.')[0]\n",
    "    extension = base.split('.')[1]\n",
    "    return path[:-len(base)-1], filename, extension\n",
    "\n",
    "\n",
    "def proc(xml_list, index=0):\n",
    "    num_xml = len(xml_list)\n",
    "    log = open(os.path.join(log_dir, 'log_'+str(index)+'.txt'), 'w')\n",
    "        \n",
    "    cnt_ok = 1\n",
    "    cnt_total = 0\n",
    "    for xidx in range(num_xml):  # num_xml\n",
    "        cnt_total += 1\n",
    "        path, fn, _ = split_file(xml_list[xidx])\n",
    "        tmp = path.split('/')\n",
    "        url = 'https://www.hooktheory.com/theorytab/view/' + tmp[-2] + '/' + tmp[-1]\n",
    "        try:    \n",
    "            current = '[%d] (%d/%d)[%d/%d] %s' % (index, xidx, num_xml, cnt_ok, cnt_total, xml_list[xidx])\n",
    "            print(current)\n",
    "\n",
    "            # path arrangement\n",
    "            path_xml = os.path.join(root_xml, path)\n",
    "            path_event = os.path.join(root_event, path)\n",
    "            path_pianoroll = os.path.join(root_pianoroll, path)\n",
    "\n",
    "            # roman\n",
    "            xml_file = os.path.join(path_xml, fn+'.xml')\n",
    "            name = fn + '_roman'\n",
    "\n",
    "            try:\n",
    "                raw_roman = proc_xml(xml_file, save_path=path_event, name=name, save_type='json')\n",
    "            except Exception as e:\n",
    "                print('> Broken File!!!')\n",
    "                error_handler(e, url, log, current)\n",
    "                continue\n",
    "\n",
    "            # to event symbol\n",
    "            name = fn + '_symbol_key'\n",
    "            raw_symbol_key = proc_roman_to_symbol(raw_roman, save_path=path_event, name=name, save_type='json', is_key=True)\n",
    "            name = fn + '_symbol_nokey'\n",
    "            raw_symbol_nokey = proc_roman_to_symbol(raw_roman, save_path=path_event, name=name, save_type='json', is_key=False)\n",
    "\n",
    "            # to midi\n",
    "            _ = proc_event_to_midi(raw_symbol_key, save_path=path_pianoroll, name=fn+'_key')\n",
    "            midi = proc_event_to_midi(raw_symbol_nokey, save_path=path_pianoroll, name=fn+'_nokey')\n",
    "\n",
    "            # to pianoroll\n",
    "\n",
    "            beats_in_measure = int(raw_symbol_nokey['metadata']['beats_in_measure'])\n",
    "            pianoroll = proc_midi_to_pianoroll(midi, beats_in_measure)\n",
    "            pianoroll.save(os.path.join(path_pianoroll, fn+'.npz'))\n",
    "\n",
    "            # plot\n",
    "            pianoroll.plot()\n",
    "            plt.savefig(os.path.join(path_pianoroll, fn+'.png'), dpi=500)\n",
    "            plt.close()\n",
    "\n",
    "            cnt_ok += 1\n",
    "        except Exception as e:\n",
    "            error_handler(e, url, log)\n",
    "\n",
    "    print('Done!!!')\n",
    "    log.close()\n",
    "    queue.put((cnt_ok, cnt_total))"
   ]
  },
  {
   "cell_type": "code",
   "execution_count": 25,
   "metadata": {},
   "outputs": [
    {
     "name": "stdout",
     "output_type": "stream",
     "text": [
      "[0] (0/2)[1/1] u/uesaka-sumire/nanatsu-no-umi-yori-kimi-no-umi/chorus.xml\n",
      "name 'plt' is not defined\n",
      "https://www.hooktheory.com/theorytab/view/uesaka-sumire/nanatsu-no-umi-yori-kimi-no-umi \n",
      "\n",
      "[0] (1/2)[1/2] u/uesaka-sumire/nanatsu-no-umi-yori-kimi-no-umi/verse-and-pre-chorus.xml\n",
      "name 'plt' is not defined\n",
      "https://www.hooktheory.com/theorytab/view/uesaka-sumire/nanatsu-no-umi-yori-kimi-no-umi \n",
      "\n",
      "Done!!!\n"
     ]
    },
    {
     "ename": "NameError",
     "evalue": "name 'queue' is not defined",
     "output_type": "error",
     "traceback": [
      "\u001b[0;31m---------------------------------------------------------------------------\u001b[0m",
      "\u001b[0;31mNameError\u001b[0m                                 Traceback (most recent call last)",
      "\u001b[0;32m<ipython-input-25-20c809ed0fb3>\u001b[0m in \u001b[0;36m<module>\u001b[0;34m()\u001b[0m\n\u001b[1;32m      7\u001b[0m     \u001b[0mxml_list\u001b[0m \u001b[0;34m=\u001b[0m \u001b[0mjson\u001b[0m\u001b[0;34m.\u001b[0m\u001b[0mload\u001b[0m\u001b[0;34m(\u001b[0m\u001b[0mf\u001b[0m\u001b[0;34m)\u001b[0m\u001b[0;34m\u001b[0m\u001b[0m\n\u001b[1;32m      8\u001b[0m \u001b[0;34m\u001b[0m\u001b[0m\n\u001b[0;32m----> 9\u001b[0;31m \u001b[0mproc\u001b[0m\u001b[0;34m(\u001b[0m\u001b[0mxml_list\u001b[0m\u001b[0;34m[\u001b[0m\u001b[0;36m0\u001b[0m\u001b[0;34m:\u001b[0m\u001b[0;36m2\u001b[0m\u001b[0;34m]\u001b[0m\u001b[0;34m,\u001b[0m \u001b[0;36m0\u001b[0m\u001b[0;34m)\u001b[0m\u001b[0;34m\u001b[0m\u001b[0m\n\u001b[0m",
      "\u001b[0;32m<ipython-input-24-0100e951b976>\u001b[0m in \u001b[0;36mproc\u001b[0;34m(xml_list, index)\u001b[0m\n\u001b[1;32m     89\u001b[0m     \u001b[0mprint\u001b[0m\u001b[0;34m(\u001b[0m\u001b[0;34m'Done!!!'\u001b[0m\u001b[0;34m)\u001b[0m\u001b[0;34m\u001b[0m\u001b[0m\n\u001b[1;32m     90\u001b[0m     \u001b[0mlog\u001b[0m\u001b[0;34m.\u001b[0m\u001b[0mclose\u001b[0m\u001b[0;34m(\u001b[0m\u001b[0;34m)\u001b[0m\u001b[0;34m\u001b[0m\u001b[0m\n\u001b[0;32m---> 91\u001b[0;31m     \u001b[0mqueue\u001b[0m\u001b[0;34m.\u001b[0m\u001b[0mput\u001b[0m\u001b[0;34m(\u001b[0m\u001b[0;34m(\u001b[0m\u001b[0mcnt_ok\u001b[0m\u001b[0;34m,\u001b[0m \u001b[0mcnt_total\u001b[0m\u001b[0;34m)\u001b[0m\u001b[0;34m)\u001b[0m\u001b[0;34m\u001b[0m\u001b[0m\n\u001b[0m",
      "\u001b[0;31mNameError\u001b[0m: name 'queue' is not defined"
     ]
    }
   ],
   "source": [
    "# xml_list = traverse_dir(root_xml)\n",
    "\n",
    "# with open('xml_list.json', \"w\") as f:\n",
    "#     json.dump(xml_list, f)\n",
    "        \n",
    "with open('xml_list.json', \"r\") as f:\n",
    "    xml_list = json.load(f)\n",
    "    \n",
    "proc(xml_list[0:2], 0)"
   ]
  }
 ],
 "metadata": {
  "kernelspec": {
   "display_name": "Python 3",
   "language": "python",
   "name": "python3"
  },
  "language_info": {
   "codemirror_mode": {
    "name": "ipython",
    "version": 3
   },
   "file_extension": ".py",
   "mimetype": "text/x-python",
   "name": "python",
   "nbconvert_exporter": "python",
   "pygments_lexer": "ipython3",
   "version": "3.6.1"
  }
 },
 "nbformat": 4,
 "nbformat_minor": 2
}
